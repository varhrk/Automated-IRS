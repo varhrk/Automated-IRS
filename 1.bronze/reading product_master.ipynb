{
 "cells": [
  {
   "cell_type": "code",
   "execution_count": 0,
   "metadata": {
    "application/vnd.databricks.v1+cell": {
     "cellMetadata": {
      "byteLimit": 2048000,
      "rowLimit": 10000
     },
     "inputWidgets": {},
     "nuid": "76f7bb80-cd01-4307-a017-8f267c19e566",
     "showTitle": false,
     "tableResultSettingsMap": {},
     "title": ""
    }
   },
   "outputs": [],
   "source": [
    "#create Schema for inventory_data\n",
    "from  pyspark.sql.types import StructType, StructField,StringType,IntegerType,FloatType,DoubleType,DateType\n",
    "from pyspark.sql.functions import col\n",
    "\n",
    "schema_product=StructType([\n",
    "  StructField(\"item_id\", StringType(), True),\n",
    "  StructField(\"lead_time_days\", IntegerType(), True),\n",
    "  StructField(\"safety_stock_factor\", DoubleType(), True)])"
   ]
  },
  {
   "cell_type": "code",
   "execution_count": 0,
   "metadata": {
    "application/vnd.databricks.v1+cell": {
     "cellMetadata": {
      "byteLimit": 2048000,
      "rowLimit": 10000
     },
     "inputWidgets": {},
     "nuid": "fbd9b4e6-6c2d-424e-985e-9766c7ee4d55",
     "showTitle": false,
     "tableResultSettingsMap": {},
     "title": ""
    }
   },
   "outputs": [],
   "source": [
    "df_product=spark.read.parquet(\"/mnt/automatedirsadls/bronze/dbo/product_master.parquet\",schema=schema_product)\n",
    "display(df_product)"
   ]
  }
 ],
 "metadata": {
  "application/vnd.databricks.v1+notebook": {
   "computePreferences": null,
   "dashboards": [],
   "environmentMetadata": {
    "base_environment": "",
    "environment_version": "2"
   },
   "inputWidgetPreferences": null,
   "language": "python",
   "notebookMetadata": {
    "pythonIndentUnit": 4
   },
   "notebookName": "reading product_master",
   "widgets": {}
  },
  "language_info": {
   "name": "python"
  }
 },
 "nbformat": 4,
 "nbformat_minor": 0
}

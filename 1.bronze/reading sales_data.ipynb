{
 "cells": [
  {
   "cell_type": "code",
   "execution_count": 0,
   "metadata": {
    "application/vnd.databricks.v1+cell": {
     "cellMetadata": {
      "byteLimit": 2048000,
      "rowLimit": 10000
     },
     "inputWidgets": {},
     "nuid": "76f7bb80-cd01-4307-a017-8f267c19e566",
     "showTitle": false,
     "tableResultSettingsMap": {},
     "title": ""
    }
   },
   "outputs": [],
   "source": [
    "#create Schema for inventory_data\n",
    "from  pyspark.sql.types import StructType, StructField,StringType,IntegerType,FloatType,DoubleType,DateType\n",
    "from pyspark.sql.functions import col\n",
    "\n",
    "schema_sales=StructType([\n",
    "  StructField(\"store_id\", StringType(), True),\n",
    "  StructField(\"item_id\", StringType(), True),\n",
    "  StructField(\"quantity_sold\", IntegerType(), True),\n",
    "  StructField(\"sale_date\", DateType(), True)])"
   ]
  },
  {
   "cell_type": "code",
   "execution_count": 0,
   "metadata": {
    "application/vnd.databricks.v1+cell": {
     "cellMetadata": {
      "byteLimit": 2048000,
      "rowLimit": 10000
     },
     "inputWidgets": {},
     "nuid": "fbd9b4e6-6c2d-424e-985e-9766c7ee4d55",
     "showTitle": false,
     "tableResultSettingsMap": {},
     "title": ""
    }
   },
   "outputs": [],
   "source": [
    "df_sales=spark.read.parquet(\"/mnt/automatedirsadls/bronze/dbo/sales_data.parquet\",schema=schema_sales)\n",
    "display(df_sales)"
   ]
  }
 ],
 "metadata": {
  "application/vnd.databricks.v1+notebook": {
   "computePreferences": null,
   "dashboards": [],
   "environmentMetadata": {
    "base_environment": "",
    "environment_version": "2"
   },
   "inputWidgetPreferences": null,
   "language": "python",
   "notebookMetadata": {
    "pythonIndentUnit": 4
   },
   "notebookName": "reading sales_data",
   "widgets": {}
  },
  "language_info": {
   "name": "python"
  }
 },
 "nbformat": 4,
 "nbformat_minor": 0
}

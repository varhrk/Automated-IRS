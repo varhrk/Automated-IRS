{
 "cells": [
  {
   "cell_type": "code",
   "execution_count": 0,
   "metadata": {
    "application/vnd.databricks.v1+cell": {
     "cellMetadata": {
      "byteLimit": 2048000,
      "rowLimit": 10000
     },
     "inputWidgets": {},
     "nuid": "684d0af4-92dc-47d1-952e-37adda3a80a1",
     "showTitle": false,
     "tableResultSettingsMap": {},
     "title": ""
    }
   },
   "outputs": [],
   "source": [
    "dbutils.fs.ls(\"/mnt/automatedirsadls/bronze/dbo/\")"
   ]
  },
  {
   "cell_type": "code",
   "execution_count": 0,
   "metadata": {
    "application/vnd.databricks.v1+cell": {
     "cellMetadata": {
      "byteLimit": 2048000,
      "rowLimit": 10000
     },
     "inputWidgets": {},
     "nuid": "9f43a7d1-65f6-4472-a842-6000adf5376f",
     "showTitle": false,
     "tableResultSettingsMap": {},
     "title": ""
    }
   },
   "outputs": [],
   "source": [
    "#create Schema for inventory_data\n",
    "from  pyspark.sql.types import StructType, StructField,StringType,IntegerType,FloatType,DoubleType,DateType\n",
    "from pyspark.sql.functions import col\n",
    "\n",
    "schema_inventory=StructType([\n",
    "  StructField(\"store_id\", StringType(), True),\n",
    "  StructField(\"item_id\", StringType(), True),\n",
    "  StructField(\"inventory_qty\", IntegerType(), True),\n",
    "  StructField(\"last_updated\", DateType(), True)])"
   ]
  },
  {
   "cell_type": "code",
   "execution_count": 0,
   "metadata": {
    "application/vnd.databricks.v1+cell": {
     "cellMetadata": {
      "byteLimit": 2048000,
      "rowLimit": 10000
     },
     "inputWidgets": {},
     "nuid": "fbd9b4e6-6c2d-424e-985e-9766c7ee4d55",
     "showTitle": false,
     "tableResultSettingsMap": {},
     "title": ""
    }
   },
   "outputs": [],
   "source": [
    "df_inv=spark.read.parquet(\"/mnt/automatedirsadls/bronze/dbo/inventory_data.parquet\",Schema=schema_inventory)\n",
    "df_inv.display()\n"
   ]
  }
 ],
 "metadata": {
  "application/vnd.databricks.v1+notebook": {
   "computePreferences": null,
   "dashboards": [],
   "environmentMetadata": {
    "base_environment": "",
    "environment_version": "2"
   },
   "inputWidgetPreferences": null,
   "language": "python",
   "notebookMetadata": {
    "pythonIndentUnit": 4
   },
   "notebookName": "reading  inventory_data",
   "widgets": {}
  },
  "language_info": {
   "name": "python"
  }
 },
 "nbformat": 4,
 "nbformat_minor": 0
}
